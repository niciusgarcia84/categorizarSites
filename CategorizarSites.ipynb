{
 "cells": [
  {
   "cell_type": "code",
   "execution_count": 1,
   "id": "bd3c1799",
   "metadata": {},
   "outputs": [],
   "source": [
    "import pandas as pd\n",
    "import matplotlib.pyplot as plt\n",
    "\n",
    "#import warnings\n",
    "#warnings.filterwarnings('ignore')\n",
    "\n",
    "#classificadores\n",
    "from sklearn.linear_model import SGDClassifier\n",
    "from sklearn.naive_bayes import MultinomialNB\n",
    "from sklearn.svm import SVC, LinearSVC\n",
    "from sklearn.model_selection import GridSearchCV\n",
    "\n",
    "#separar dados de treino e teste\n",
    "from sklearn.model_selection import train_test_split\n",
    "\n",
    "# exibir metricas\n",
    "from sklearn.metrics import confusion_matrix\n",
    "from sklearn.metrics import accuracy_score\n",
    "from sklearn import metrics\n",
    "\n",
    "#gram, bigram e trigram\n",
    "#from sklearn.feature_extraction import stop_words\n",
    "from sklearn.feature_extraction.text import CountVectorizer\n",
    "\n",
    "# vetorizador\n",
    "from sklearn.feature_extraction.text import TfidfVectorizer"
   ]
  },
  {
   "cell_type": "code",
   "execution_count": 2,
   "id": "54f7c46a",
   "metadata": {},
   "outputs": [],
   "source": [
    "base = pd.read_excel('dados2.xlsx', sheet_name='categorizado')"
   ]
  },
  {
   "cell_type": "code",
   "execution_count": 3,
   "id": "992bcf39",
   "metadata": {},
   "outputs": [
    {
     "data": {
      "text/html": [
       "<div>\n",
       "<style scoped>\n",
       "    .dataframe tbody tr th:only-of-type {\n",
       "        vertical-align: middle;\n",
       "    }\n",
       "\n",
       "    .dataframe tbody tr th {\n",
       "        vertical-align: top;\n",
       "    }\n",
       "\n",
       "    .dataframe thead th {\n",
       "        text-align: right;\n",
       "    }\n",
       "</style>\n",
       "<table border=\"1\" class=\"dataframe\">\n",
       "  <thead>\n",
       "    <tr style=\"text-align: right;\">\n",
       "      <th></th>\n",
       "      <th>ClientID</th>\n",
       "      <th>GroupID</th>\n",
       "      <th>UrlDomain</th>\n",
       "      <th>CategorySitesID</th>\n",
       "      <th>UrlCompleta</th>\n",
       "    </tr>\n",
       "  </thead>\n",
       "  <tbody>\n",
       "    <tr>\n",
       "      <th>0</th>\n",
       "      <td>109</td>\n",
       "      <td>17</td>\n",
       "      <td>abrace</td>\n",
       "      <td>4</td>\n",
       "      <td>109.17.abrace</td>\n",
       "    </tr>\n",
       "    <tr>\n",
       "      <th>1</th>\n",
       "      <td>109</td>\n",
       "      <td>1</td>\n",
       "      <td>access.redhat.com</td>\n",
       "      <td>1</td>\n",
       "      <td>109.1.access.redhat.com</td>\n",
       "    </tr>\n",
       "    <tr>\n",
       "      <th>2</th>\n",
       "      <td>109</td>\n",
       "      <td>1</td>\n",
       "      <td>account.activedirectory.windowsazure.com</td>\n",
       "      <td>1</td>\n",
       "      <td>109.1.account.activedirectory.windowsazure.com</td>\n",
       "    </tr>\n",
       "    <tr>\n",
       "      <th>3</th>\n",
       "      <td>109</td>\n",
       "      <td>5</td>\n",
       "      <td>account.activedirectory.windowsazure.com</td>\n",
       "      <td>1</td>\n",
       "      <td>109.5.account.activedirectory.windowsazure.com</td>\n",
       "    </tr>\n",
       "    <tr>\n",
       "      <th>4</th>\n",
       "      <td>109</td>\n",
       "      <td>8</td>\n",
       "      <td>account.activedirectory.windowsazure.com</td>\n",
       "      <td>1</td>\n",
       "      <td>109.8.account.activedirectory.windowsazure.com</td>\n",
       "    </tr>\n",
       "  </tbody>\n",
       "</table>\n",
       "</div>"
      ],
      "text/plain": [
       "   ClientID  GroupID                                 UrlDomain  \\\n",
       "0       109       17                                    abrace   \n",
       "1       109        1                         access.redhat.com   \n",
       "2       109        1  account.activedirectory.windowsazure.com   \n",
       "3       109        5  account.activedirectory.windowsazure.com   \n",
       "4       109        8  account.activedirectory.windowsazure.com   \n",
       "\n",
       "   CategorySitesID                                     UrlCompleta  \n",
       "0                4                                   109.17.abrace  \n",
       "1                1                         109.1.access.redhat.com  \n",
       "2                1  109.1.account.activedirectory.windowsazure.com  \n",
       "3                1  109.5.account.activedirectory.windowsazure.com  \n",
       "4                1  109.8.account.activedirectory.windowsazure.com  "
      ]
     },
     "execution_count": 3,
     "metadata": {},
     "output_type": "execute_result"
    }
   ],
   "source": [
    "base.head()"
   ]
  },
  {
   "cell_type": "code",
   "execution_count": 4,
   "id": "2c6e2192",
   "metadata": {},
   "outputs": [
    {
     "name": "stdout",
     "output_type": "stream",
     "text": [
      "<class 'pandas.core.frame.DataFrame'>\n",
      "RangeIndex: 3716 entries, 0 to 3715\n",
      "Data columns (total 5 columns):\n",
      " #   Column           Non-Null Count  Dtype \n",
      "---  ------           --------------  ----- \n",
      " 0   ClientID         3716 non-null   int64 \n",
      " 1   GroupID          3716 non-null   int64 \n",
      " 2   UrlDomain        3716 non-null   object\n",
      " 3   CategorySitesID  3716 non-null   int64 \n",
      " 4   UrlCompleta      3716 non-null   object\n",
      "dtypes: int64(3), object(2)\n",
      "memory usage: 145.3+ KB\n"
     ]
    }
   ],
   "source": [
    "base.info()"
   ]
  },
  {
   "cell_type": "code",
   "execution_count": 8,
   "id": "81a7ab66",
   "metadata": {},
   "outputs": [
    {
     "data": {
      "text/plain": [
       "109.21.profissionaloracle.com.br    3\n",
       "109.17.www.google.com               3\n",
       "109.20.www.bing.com                 3\n",
       "109.5.stackoverflow.com             3\n",
       "109.13.www.google.com               3\n",
       "                                   ..\n",
       "109.4.vacina                        1\n",
       "109.1.sa2.topdown.com.br            1\n",
       "109.7.meet                          1\n",
       "109.3.chat.google.com               1\n",
       "109.13.maps.google.com              1\n",
       "Name: UrlCompleta, Length: 3403, dtype: int64"
      ]
     },
     "execution_count": 8,
     "metadata": {},
     "output_type": "execute_result"
    }
   ],
   "source": [
    "base['UrlCompleta'].value_counts()"
   ]
  },
  {
   "cell_type": "code",
   "execution_count": 9,
   "id": "187511ca",
   "metadata": {},
   "outputs": [
    {
     "data": {
      "text/plain": [
       "0                                        [109.17.abrace]\n",
       "1                              [109.1.access.redhat.com]\n",
       "2       [109.1.account.activedirectory.windowsazure.com]\n",
       "3       [109.5.account.activedirectory.windowsazure.com]\n",
       "4       [109.8.account.activedirectory.windowsazure.com]\n",
       "                              ...                       \n",
       "3711                          [109.14.zapimoveis.com.br]\n",
       "3712                               [109.14.zarpo.com.br]\n",
       "3713                           [109.10.zonitshop.com.br]\n",
       "3714                                    [109.13.zoom.us]\n",
       "3715                                      [109.17.zumbi]\n",
       "Name: UrlCompleta, Length: 3716, dtype: object"
      ]
     },
     "execution_count": 9,
     "metadata": {},
     "output_type": "execute_result"
    }
   ],
   "source": [
    "base['UrlCompleta'].str.lower().str.split()"
   ]
  },
  {
   "cell_type": "code",
   "execution_count": 10,
   "id": "986ecddf",
   "metadata": {},
   "outputs": [
    {
     "data": {
      "text/plain": [
       "0                                        109.17.abrace\n",
       "1                              109.1.access.redhat.com\n",
       "2       109.1.account.activedirectory.windowsazure.com\n",
       "3       109.5.account.activedirectory.windowsazure.com\n",
       "4       109.8.account.activedirectory.windowsazure.com\n",
       "                             ...                      \n",
       "3711                          109.14.zapimoveis.com.br\n",
       "3712                               109.14.zarpo.com.br\n",
       "3713                           109.10.zonitshop.com.br\n",
       "3714                                    109.13.zoom.us\n",
       "3715                                      109.17.zumbi\n",
       "Name: UrlCompleta, Length: 3716, dtype: object"
      ]
     },
     "execution_count": 10,
     "metadata": {},
     "output_type": "execute_result"
    }
   ],
   "source": [
    "base['UrlCompleta']"
   ]
  },
  {
   "cell_type": "code",
   "execution_count": 11,
   "id": "90bc6085",
   "metadata": {},
   "outputs": [],
   "source": [
    "categorias = base['CategorySitesID'].unique()"
   ]
  },
  {
   "cell_type": "code",
   "execution_count": 12,
   "id": "57754d73",
   "metadata": {},
   "outputs": [
    {
     "name": "stdout",
     "output_type": "stream",
     "text": [
      "[4 1 6 8 3 2 5]\n"
     ]
    }
   ],
   "source": [
    "print(categorias)"
   ]
  },
  {
   "cell_type": "code",
   "execution_count": 13,
   "id": "9bced43a",
   "metadata": {},
   "outputs": [
    {
     "name": "stdout",
     "output_type": "stream",
     "text": [
      "2972\n",
      "744\n"
     ]
    }
   ],
   "source": [
    "X_treino, X_teste = train_test_split(base, test_size=0.2, random_state=42)\n",
    "\n",
    "print(len(X_treino))\n",
    "print(len(X_teste))"
   ]
  },
  {
   "cell_type": "code",
   "execution_count": 14,
   "id": "59a868ea",
   "metadata": {},
   "outputs": [],
   "source": [
    "y_treino = X_treino['CategorySitesID'].copy()\n",
    "y_teste = X_teste['CategorySitesID'].copy()"
   ]
  },
  {
   "cell_type": "code",
   "execution_count": null,
   "id": "54bcebb1",
   "metadata": {},
   "outputs": [],
   "source": [
    "print(y_treino)\n",
    "print(y_teste)"
   ]
  },
  {
   "cell_type": "code",
   "execution_count": null,
   "id": "a5dc8005",
   "metadata": {},
   "outputs": [],
   "source": [
    "print(X_treino)\n",
    "print(X_teste)"
   ]
  },
  {
   "cell_type": "code",
   "execution_count": 15,
   "id": "064fedf2",
   "metadata": {},
   "outputs": [],
   "source": [
    "X_treino = X_treino['UrlCompleta'].copy()\n",
    "X_teste = X_teste['UrlCompleta'].copy()"
   ]
  },
  {
   "cell_type": "code",
   "execution_count": null,
   "id": "be61d627",
   "metadata": {},
   "outputs": [],
   "source": [
    "print(X_treino)\n",
    "print(X_teste)"
   ]
  },
  {
   "cell_type": "code",
   "execution_count": 16,
   "id": "8067f859",
   "metadata": {},
   "outputs": [],
   "source": [
    "#unigram\n",
    "count_vec = CountVectorizer()\n",
    "X_treino_counts = count_vec.fit_transform(X_treino)"
   ]
  },
  {
   "cell_type": "code",
   "execution_count": 17,
   "id": "36f3749a",
   "metadata": {},
   "outputs": [
    {
     "name": "stdout",
     "output_type": "stream",
     "text": [
      "  (0, 3)\t1\n",
      "  (0, 11)\t1\n",
      "  (0, 648)\t1\n",
      "  (1, 3)\t1\n",
      "  (1, 12)\t1\n",
      "  (1, 238)\t1\n",
      "  (1, 212)\t1\n",
      "  (2, 3)\t1\n",
      "  (2, 212)\t1\n",
      "  (2, 575)\t1\n",
      "  (2, 701)\t1\n",
      "  (3, 3)\t1\n",
      "  (3, 12)\t1\n",
      "  (3, 212)\t1\n",
      "  (3, 991)\t1\n",
      "  (3, 400)\t1\n",
      "  (3, 132)\t1\n",
      "  (4, 3)\t1\n",
      "  (4, 212)\t1\n",
      "  (4, 132)\t1\n",
      "  (4, 16)\t1\n",
      "  (4, 130)\t1\n",
      "  (4, 404)\t1\n",
      "  (5, 3)\t1\n",
      "  (5, 212)\t1\n",
      "  :\t:\n",
      "  (2965, 1083)\t1\n",
      "  (2965, 1033)\t1\n",
      "  (2966, 3)\t1\n",
      "  (2966, 212)\t1\n",
      "  (2966, 132)\t1\n",
      "  (2966, 960)\t1\n",
      "  (2966, 20)\t1\n",
      "  (2966, 390)\t1\n",
      "  (2967, 3)\t1\n",
      "  (2967, 132)\t1\n",
      "  (2967, 1073)\t1\n",
      "  (2967, 232)\t1\n",
      "  (2967, 395)\t1\n",
      "  (2968, 3)\t1\n",
      "  (2968, 427)\t1\n",
      "  (2969, 3)\t1\n",
      "  (2969, 212)\t1\n",
      "  (2969, 299)\t1\n",
      "  (2969, 941)\t1\n",
      "  (2970, 3)\t1\n",
      "  (2970, 212)\t1\n",
      "  (2970, 1162)\t1\n",
      "  (2970, 118)\t1\n",
      "  (2971, 3)\t1\n",
      "  (2971, 1057)\t1\n"
     ]
    }
   ],
   "source": [
    "print(X_treino_counts)"
   ]
  },
  {
   "cell_type": "code",
   "execution_count": 18,
   "id": "43dfa422",
   "metadata": {},
   "outputs": [],
   "source": [
    "#bigram\n",
    "count_vec_ngram = CountVectorizer(ngram_range=(2, 2))\n",
    "X_treino_counts_bigram = count_vec_ngram.fit_transform(X_treino)"
   ]
  },
  {
   "cell_type": "code",
   "execution_count": 19,
   "id": "22957e77",
   "metadata": {},
   "outputs": [],
   "source": [
    "#trigram\n",
    "count_vec_ngram_tri = CountVectorizer(ngram_range=(3, 3))\n",
    "X_treino_counts_trigram = count_vec_ngram_tri.fit_transform(X_treino)"
   ]
  },
  {
   "cell_type": "code",
   "execution_count": null,
   "id": "f620eee3",
   "metadata": {},
   "outputs": [],
   "source": []
  },
  {
   "cell_type": "code",
   "execution_count": null,
   "id": "f194a8e3",
   "metadata": {},
   "outputs": [],
   "source": [
    "#TF-IDF\n",
    "txtvetorizador = TfidfVectorizer()\n",
    "X_treino_vetor = txtvetorizador.fit_transform(X_treino)"
   ]
  },
  {
   "cell_type": "code",
   "execution_count": null,
   "id": "32512973",
   "metadata": {},
   "outputs": [],
   "source": [
    "print(X_treino_vetor)"
   ]
  },
  {
   "cell_type": "code",
   "execution_count": null,
   "id": "e520ca16",
   "metadata": {},
   "outputs": [],
   "source": [
    "#gradiente descendente\n",
    "modelo = SGDClassifier(loss='hinge', penalty='l2', alpha=1e-3, random_state=42, max_iter=5, tol=None)\n",
    "modelo.fit(X_treino_vetor, y_treino)"
   ]
  },
  {
   "cell_type": "code",
   "execution_count": null,
   "id": "c5523f11",
   "metadata": {},
   "outputs": [],
   "source": [
    "X_teste_vetor = txtvetorizador.transform(X_teste)"
   ]
  },
  {
   "cell_type": "code",
   "execution_count": null,
   "id": "11ed6d97",
   "metadata": {},
   "outputs": [],
   "source": [
    "previsao = modelo.predict(X_teste_vetor)"
   ]
  },
  {
   "cell_type": "code",
   "execution_count": null,
   "id": "3aba2e83",
   "metadata": {},
   "outputs": [],
   "source": [
    "print(metrics.classification_report(y_teste.values, previsao))\n",
    "\n",
    "print(categorias, modelo.classes_)"
   ]
  },
  {
   "cell_type": "code",
   "execution_count": null,
   "id": "b28a18a5",
   "metadata": {},
   "outputs": [],
   "source": [
    "confusion_matrix = confusion_matrix(y_teste.values, previsao)\n",
    "plt.matshow(confusion_matrix, cmap='RdBu_r')\n",
    "plt.title(\"Matriz de confusão\")\n",
    "plt.colorbar()\n",
    "plt.ylabel(\"Classificações corretas\")\n",
    "plt.xlabel(\"Classificações\")"
   ]
  },
  {
   "cell_type": "code",
   "execution_count": null,
   "id": "2df89952",
   "metadata": {},
   "outputs": [],
   "source": [
    "#navie bayes\n",
    "MultiNB = MultinomialNB()\n",
    "MultiNB.fit(X_treino_vetor, y_treino)"
   ]
  },
  {
   "cell_type": "code",
   "execution_count": null,
   "id": "3da2ddca",
   "metadata": {},
   "outputs": [],
   "source": [
    "previsaoNB = MultiNB.predict(X_teste_vetor)"
   ]
  },
  {
   "cell_type": "code",
   "execution_count": null,
   "id": "5ee4061d",
   "metadata": {},
   "outputs": [],
   "source": [
    "print(metrics.classification_report(y_teste.values, previsaoNB))\n",
    "\n",
    "print(categorias)"
   ]
  },
  {
   "cell_type": "code",
   "execution_count": null,
   "id": "36212bbf",
   "metadata": {},
   "outputs": [],
   "source": [
    "confusion_matrix = confusion_matrix(y_teste.values, previsaoNB)\n",
    "plt.matshow(confusion_matrix, cmap='RdBu_r')\n",
    "plt.title(\"Matriz de confusão\")\n",
    "plt.colorbar()\n",
    "plt.ylabel(\"Classificações corretas\")\n",
    "plt.xlabel(\"Classificações\")"
   ]
  },
  {
   "cell_type": "code",
   "execution_count": null,
   "id": "28742fb7",
   "metadata": {},
   "outputs": [],
   "source": [
    "#svc\n",
    "param_grid = [\n",
    "    {'C': [1, 10, 100, 1000]}\n",
    "]\n",
    "svc = LinearSVC()\n",
    "svm = GridSearchCV(svc, param_grid).fit(X_treino_vetor, y_treino)"
   ]
  },
  {
   "cell_type": "code",
   "execution_count": null,
   "id": "def4f29d",
   "metadata": {},
   "outputs": [],
   "source": [
    "previsaoSVC = svm.predict(X_teste_vetor)"
   ]
  },
  {
   "cell_type": "code",
   "execution_count": null,
   "id": "1afb608c",
   "metadata": {},
   "outputs": [],
   "source": [
    "print(metrics.classification_report(y_teste.values, previsaoSVC))\n",
    "\n",
    "print(categorias)"
   ]
  },
  {
   "cell_type": "code",
   "execution_count": null,
   "id": "51470cc1",
   "metadata": {},
   "outputs": [],
   "source": [
    "confusion_matrix = confusion_matrix(y_teste.values, previsaoSVC)\n",
    "plt.matshow(confusion_matrix, cmap='RdBu_r')\n",
    "plt.title(\"Matriz de confusão\")\n",
    "plt.colorbar()\n",
    "plt.ylabel(\"Classificações corretas\")\n",
    "plt.xlabel(\"Classificações\")"
   ]
  },
  {
   "cell_type": "code",
   "execution_count": null,
   "id": "eff135c1",
   "metadata": {},
   "outputs": [],
   "source": [
    "print('Accuracy')\n",
    "print('Gradient = {}'.format(accuracy_score(y_teste.values, previsao)))\n",
    "print('Navie = {}'.format(accuracy_score(y_teste.values, previsaoNB)))\n",
    "print('SVC = {}'.format(accuracy_score(y_teste.values, previsaoSVC)))"
   ]
  },
  {
   "cell_type": "code",
   "execution_count": null,
   "id": "8e5b67e0",
   "metadata": {},
   "outputs": [],
   "source": []
  }
 ],
 "metadata": {
  "kernelspec": {
   "display_name": "Python 3",
   "language": "python",
   "name": "python3"
  },
  "language_info": {
   "codemirror_mode": {
    "name": "ipython",
    "version": 3
   },
   "file_extension": ".py",
   "mimetype": "text/x-python",
   "name": "python",
   "nbconvert_exporter": "python",
   "pygments_lexer": "ipython3",
   "version": "3.8.8"
  }
 },
 "nbformat": 4,
 "nbformat_minor": 5
}
