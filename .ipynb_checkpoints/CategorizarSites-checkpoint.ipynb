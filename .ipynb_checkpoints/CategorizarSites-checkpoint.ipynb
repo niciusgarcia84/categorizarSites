{
 "cells": [
  {
   "cell_type": "code",
   "execution_count": 55,
   "id": "bd3c1799",
   "metadata": {},
   "outputs": [],
   "source": [
    "import pandas as pd\n",
    "import matplotlib.pyplot as plt\n",
    "\n",
    "#import warnings\n",
    "#warnings.filterwarnings('ignore')\n",
    "\n",
    "#classificadores\n",
    "from sklearn.linear_model import SGDClassifier\n",
    "from sklearn.naive_bayes import MultinomialNB\n",
    "from sklearn.svm import SVC, LinearSVC\n",
    "from sklearn.model_selection import GridSearchCV\n",
    "\n",
    "#separar dados de treino e teste\n",
    "from sklearn.model_selection import train_test_split\n",
    "\n",
    "# exibir metricas\n",
    "from sklearn.metrics import confusion_matrix\n",
    "from sklearn.metrics import accuracy_score\n",
    "from sklearn import metrics\n",
    "\n",
    "# vetorizador\n",
    "from sklearn.feature_extraction.text import TfidfVectorizer"
   ]
  },
  {
   "cell_type": "code",
   "execution_count": 12,
   "id": "54f7c46a",
   "metadata": {},
   "outputs": [],
   "source": [
    "base = pd.read_excel('dados2.xlsx', sheet_name='categorizado')"
   ]
  },
  {
   "cell_type": "code",
   "execution_count": 13,
   "id": "992bcf39",
   "metadata": {},
   "outputs": [
    {
     "data": {
      "text/html": [
       "<div>\n",
       "<style scoped>\n",
       "    .dataframe tbody tr th:only-of-type {\n",
       "        vertical-align: middle;\n",
       "    }\n",
       "\n",
       "    .dataframe tbody tr th {\n",
       "        vertical-align: top;\n",
       "    }\n",
       "\n",
       "    .dataframe thead th {\n",
       "        text-align: right;\n",
       "    }\n",
       "</style>\n",
       "<table border=\"1\" class=\"dataframe\">\n",
       "  <thead>\n",
       "    <tr style=\"text-align: right;\">\n",
       "      <th></th>\n",
       "      <th>ClientID</th>\n",
       "      <th>GroupID</th>\n",
       "      <th>UrlDomain</th>\n",
       "      <th>CategorySitesID</th>\n",
       "      <th>UrlCompleta</th>\n",
       "    </tr>\n",
       "  </thead>\n",
       "  <tbody>\n",
       "    <tr>\n",
       "      <th>0</th>\n",
       "      <td>109</td>\n",
       "      <td>17</td>\n",
       "      <td>abrace</td>\n",
       "      <td>4</td>\n",
       "      <td>109.17.abrace</td>\n",
       "    </tr>\n",
       "    <tr>\n",
       "      <th>1</th>\n",
       "      <td>109</td>\n",
       "      <td>1</td>\n",
       "      <td>access.redhat.com</td>\n",
       "      <td>1</td>\n",
       "      <td>109.1.access.redhat.com</td>\n",
       "    </tr>\n",
       "    <tr>\n",
       "      <th>2</th>\n",
       "      <td>109</td>\n",
       "      <td>1</td>\n",
       "      <td>account.activedirectory.windowsazure.com</td>\n",
       "      <td>1</td>\n",
       "      <td>109.1.account.activedirectory.windowsazure.com</td>\n",
       "    </tr>\n",
       "    <tr>\n",
       "      <th>3</th>\n",
       "      <td>109</td>\n",
       "      <td>5</td>\n",
       "      <td>account.activedirectory.windowsazure.com</td>\n",
       "      <td>1</td>\n",
       "      <td>109.5.account.activedirectory.windowsazure.com</td>\n",
       "    </tr>\n",
       "    <tr>\n",
       "      <th>4</th>\n",
       "      <td>109</td>\n",
       "      <td>8</td>\n",
       "      <td>account.activedirectory.windowsazure.com</td>\n",
       "      <td>1</td>\n",
       "      <td>109.8.account.activedirectory.windowsazure.com</td>\n",
       "    </tr>\n",
       "  </tbody>\n",
       "</table>\n",
       "</div>"
      ],
      "text/plain": [
       "   ClientID  GroupID                                 UrlDomain  \\\n",
       "0       109       17                                    abrace   \n",
       "1       109        1                         access.redhat.com   \n",
       "2       109        1  account.activedirectory.windowsazure.com   \n",
       "3       109        5  account.activedirectory.windowsazure.com   \n",
       "4       109        8  account.activedirectory.windowsazure.com   \n",
       "\n",
       "   CategorySitesID                                     UrlCompleta  \n",
       "0                4                                   109.17.abrace  \n",
       "1                1                         109.1.access.redhat.com  \n",
       "2                1  109.1.account.activedirectory.windowsazure.com  \n",
       "3                1  109.5.account.activedirectory.windowsazure.com  \n",
       "4                1  109.8.account.activedirectory.windowsazure.com  "
      ]
     },
     "execution_count": 13,
     "metadata": {},
     "output_type": "execute_result"
    }
   ],
   "source": [
    "base.head()"
   ]
  },
  {
   "cell_type": "code",
   "execution_count": 14,
   "id": "2c6e2192",
   "metadata": {},
   "outputs": [
    {
     "name": "stdout",
     "output_type": "stream",
     "text": [
      "<class 'pandas.core.frame.DataFrame'>\n",
      "RangeIndex: 3716 entries, 0 to 3715\n",
      "Data columns (total 5 columns):\n",
      " #   Column           Non-Null Count  Dtype \n",
      "---  ------           --------------  ----- \n",
      " 0   ClientID         3716 non-null   int64 \n",
      " 1   GroupID          3716 non-null   int64 \n",
      " 2   UrlDomain        3716 non-null   object\n",
      " 3   CategorySitesID  3716 non-null   int64 \n",
      " 4   UrlCompleta      3716 non-null   object\n",
      "dtypes: int64(3), object(2)\n",
      "memory usage: 145.3+ KB\n"
     ]
    }
   ],
   "source": [
    "base.info()"
   ]
  },
  {
   "cell_type": "code",
   "execution_count": null,
   "id": "81a7ab66",
   "metadata": {},
   "outputs": [],
   "source": [
    "base['UrlDomain'].value_counts()"
   ]
  },
  {
   "cell_type": "code",
   "execution_count": 3,
   "id": "187511ca",
   "metadata": {},
   "outputs": [
    {
     "data": {
      "text/plain": [
       "0                                         [abrace]\n",
       "1                              [access.redhat.com]\n",
       "2       [account.activedirectory.windowsazure.com]\n",
       "3       [account.activedirectory.windowsazure.com]\n",
       "4       [account.activedirectory.windowsazure.com]\n",
       "                           ...                    \n",
       "3711                           [zapimoveis.com.br]\n",
       "3712                                [zarpo.com.br]\n",
       "3713                            [zonitshop.com.br]\n",
       "3714                                     [zoom.us]\n",
       "3715                                       [zumbi]\n",
       "Name: UrlDomain, Length: 3716, dtype: object"
      ]
     },
     "execution_count": 3,
     "metadata": {},
     "output_type": "execute_result"
    }
   ],
   "source": [
    "base['UrlDomain'].str.lower().str.split()"
   ]
  },
  {
   "cell_type": "code",
   "execution_count": 15,
   "id": "986ecddf",
   "metadata": {},
   "outputs": [
    {
     "data": {
      "text/plain": [
       "0                                        109.17.abrace\n",
       "1                              109.1.access.redhat.com\n",
       "2       109.1.account.activedirectory.windowsazure.com\n",
       "3       109.5.account.activedirectory.windowsazure.com\n",
       "4       109.8.account.activedirectory.windowsazure.com\n",
       "                             ...                      \n",
       "3711                          109.14.zapimoveis.com.br\n",
       "3712                               109.14.zarpo.com.br\n",
       "3713                           109.10.zonitshop.com.br\n",
       "3714                                    109.13.zoom.us\n",
       "3715                                      109.17.zumbi\n",
       "Name: UrlCompleta, Length: 3716, dtype: object"
      ]
     },
     "execution_count": 15,
     "metadata": {},
     "output_type": "execute_result"
    }
   ],
   "source": [
    "base['UrlCompleta']"
   ]
  },
  {
   "cell_type": "code",
   "execution_count": 31,
   "id": "90bc6085",
   "metadata": {},
   "outputs": [],
   "source": [
    "categorias = base['CategorySitesID'].unique()"
   ]
  },
  {
   "cell_type": "code",
   "execution_count": 32,
   "id": "57754d73",
   "metadata": {},
   "outputs": [
    {
     "name": "stdout",
     "output_type": "stream",
     "text": [
      "[4 1 6 8 3 2 5]\n"
     ]
    }
   ],
   "source": [
    "print(categorias)"
   ]
  },
  {
   "cell_type": "code",
   "execution_count": 16,
   "id": "9bced43a",
   "metadata": {},
   "outputs": [
    {
     "name": "stdout",
     "output_type": "stream",
     "text": [
      "2972\n",
      "744\n"
     ]
    }
   ],
   "source": [
    "X_treino, X_teste = train_test_split(base, test_size=0.2, random_state=42)\n",
    "\n",
    "print(len(X_treino))\n",
    "print(len(X_teste))"
   ]
  },
  {
   "cell_type": "code",
   "execution_count": 17,
   "id": "59a868ea",
   "metadata": {},
   "outputs": [],
   "source": [
    "y_treino = X_treino['CategorySitesID'].copy()\n",
    "y_teste = X_teste['CategorySitesID'].copy()"
   ]
  },
  {
   "cell_type": "code",
   "execution_count": 18,
   "id": "54bcebb1",
   "metadata": {},
   "outputs": [
    {
     "name": "stdout",
     "output_type": "stream",
     "text": [
      "1966    4\n",
      "596     6\n",
      "1694    2\n",
      "2920    1\n",
      "296     6\n",
      "       ..\n",
      "1130    1\n",
      "1294    4\n",
      "860     1\n",
      "3507    4\n",
      "3174    1\n",
      "Name: CategorySitesID, Length: 2972, dtype: int64\n",
      "3502    4\n",
      "842     2\n",
      "321     4\n",
      "2351    2\n",
      "1392    1\n",
      "       ..\n",
      "209     1\n",
      "3361    4\n",
      "1094    1\n",
      "2226    6\n",
      "2498    1\n",
      "Name: CategorySitesID, Length: 744, dtype: int64\n"
     ]
    }
   ],
   "source": [
    "print(y_treino)\n",
    "print(y_teste)"
   ]
  },
  {
   "cell_type": "code",
   "execution_count": 19,
   "id": "a5dc8005",
   "metadata": {},
   "outputs": [
    {
     "name": "stdout",
     "output_type": "stream",
     "text": [
      "      ClientID  GroupID                  UrlDomain  CategorySitesID  \\\n",
      "1966       109       18                     musica                4   \n",
      "596        109       19            crunchyroll.com                6   \n",
      "1694       109        1           login.oracle.com                2   \n",
      "2920       109       19      topsaudeh.gndi.com.br                1   \n",
      "296        109       21        books.google.com.br                6   \n",
      "...        ...      ...                        ...              ...   \n",
      "1130       109        4  giusoaphml.unimed.coop.br                1   \n",
      "1294       109        5                        how                4   \n",
      "860        109        5           docs.telerik.com                1   \n",
      "3507       109        9               www.bing.com                4   \n",
      "3174       109        4                   unicnuvm                1   \n",
      "\n",
      "                          UrlCompleta  \n",
      "1966                    109.18.musica  \n",
      "596            109.19.crunchyroll.com  \n",
      "1694           109.1.login.oracle.com  \n",
      "2920     109.19.topsaudeh.gndi.com.br  \n",
      "296        109.21.books.google.com.br  \n",
      "...                               ...  \n",
      "1130  109.4.giusoaphml.unimed.coop.br  \n",
      "1294                        109.5.how  \n",
      "860            109.5.docs.telerik.com  \n",
      "3507               109.9.www.bing.com  \n",
      "3174                   109.4.unicnuvm  \n",
      "\n",
      "[2972 rows x 5 columns]\n",
      "      ClientID  GroupID                         UrlDomain  CategorySitesID  \\\n",
      "3502       109        5                      www.bing.com                4   \n",
      "842        109        2                   docs.oracle.com                2   \n",
      "321        109       18                                 c                4   \n",
      "2351       109       10              pt.stackoverflow.com                2   \n",
      "1392       109       17  idealodontooauth.topsaude.com.br                1   \n",
      "...        ...      ...                               ...              ...   \n",
      "209        109        1                    aws.amazon.com                1   \n",
      "3361       109       15                       view-source                4   \n",
      "1094       109       22                git.topdown.com.br                1   \n",
      "2226       109        4                    petlove.com.br                6   \n",
      "2498       109        3               sac2.topdown.com.br                1   \n",
      "\n",
      "                                  UrlCompleta  \n",
      "3502                       109.5.www.bing.com  \n",
      "842                     109.2.docs.oracle.com  \n",
      "321                                  109.18.c  \n",
      "2351              109.10.pt.stackoverflow.com  \n",
      "1392  109.17.idealodontooauth.topsaude.com.br  \n",
      "...                                       ...  \n",
      "209                      109.1.aws.amazon.com  \n",
      "3361                       109.15.view-source  \n",
      "1094                109.22.git.topdown.com.br  \n",
      "2226                     109.4.petlove.com.br  \n",
      "2498                109.3.sac2.topdown.com.br  \n",
      "\n",
      "[744 rows x 5 columns]\n"
     ]
    }
   ],
   "source": [
    "print(X_treino)\n",
    "print(X_teste)"
   ]
  },
  {
   "cell_type": "code",
   "execution_count": 20,
   "id": "064fedf2",
   "metadata": {},
   "outputs": [],
   "source": [
    "X_treino = X_treino['UrlCompleta'].copy()\n",
    "X_teste = X_teste['UrlCompleta'].copy()"
   ]
  },
  {
   "cell_type": "code",
   "execution_count": 21,
   "id": "be61d627",
   "metadata": {},
   "outputs": [
    {
     "name": "stdout",
     "output_type": "stream",
     "text": [
      "1966                      109.18.musica\n",
      "596              109.19.crunchyroll.com\n",
      "1694             109.1.login.oracle.com\n",
      "2920       109.19.topsaudeh.gndi.com.br\n",
      "296          109.21.books.google.com.br\n",
      "                     ...               \n",
      "1130    109.4.giusoaphml.unimed.coop.br\n",
      "1294                          109.5.how\n",
      "860              109.5.docs.telerik.com\n",
      "3507                 109.9.www.bing.com\n",
      "3174                     109.4.unicnuvm\n",
      "Name: UrlCompleta, Length: 2972, dtype: object\n",
      "3502                         109.5.www.bing.com\n",
      "842                       109.2.docs.oracle.com\n",
      "321                                    109.18.c\n",
      "2351                109.10.pt.stackoverflow.com\n",
      "1392    109.17.idealodontooauth.topsaude.com.br\n",
      "                         ...                   \n",
      "209                        109.1.aws.amazon.com\n",
      "3361                         109.15.view-source\n",
      "1094                  109.22.git.topdown.com.br\n",
      "2226                       109.4.petlove.com.br\n",
      "2498                  109.3.sac2.topdown.com.br\n",
      "Name: UrlCompleta, Length: 744, dtype: object\n"
     ]
    }
   ],
   "source": [
    "print(X_treino)\n",
    "print(X_teste)"
   ]
  },
  {
   "cell_type": "code",
   "execution_count": 22,
   "id": "f194a8e3",
   "metadata": {},
   "outputs": [],
   "source": [
    "txtvetorizador = TfidfVectorizer()\n",
    "X_treino_vetor = txtvetorizador.fit_transform(X_treino)"
   ]
  },
  {
   "cell_type": "code",
   "execution_count": 23,
   "id": "32512973",
   "metadata": {},
   "outputs": [
    {
     "name": "stdout",
     "output_type": "stream",
     "text": [
      "  (0, 648)\t0.9050683934116224\n",
      "  (0, 11)\t0.4110626375291437\n",
      "  (0, 3)\t0.10898950075529548\n",
      "  (1, 212)\t0.14182411531375347\n",
      "  (1, 238)\t0.8863360319400241\n",
      "  (1, 12)\t0.42767075023093987\n",
      "  (1, 3)\t0.10673372567838514\n",
      "  (2, 701)\t0.6163656492059453\n",
      "  (2, 575)\t0.7530814196284839\n",
      "  (2, 212)\t0.18387958035966984\n",
      "  (2, 3)\t0.13838374838120582\n",
      "  (3, 132)\t0.21113172863689653\n",
      "  (3, 400)\t0.459539741557818\n",
      "  (3, 991)\t0.7494914445573754\n",
      "  (3, 212)\t0.13084933485549222\n",
      "  (3, 12)\t0.3945762896603878\n",
      "  (3, 3)\t0.0984743460642684\n",
      "  (4, 404)\t0.2929360205695268\n",
      "  (4, 130)\t0.8370884919135578\n",
      "  (4, 16)\t0.3723695015061169\n",
      "  (4, 132)\t0.21612501369758982\n",
      "  (4, 212)\t0.13394393382057362\n",
      "  (4, 3)\t0.10080327352694217\n",
      "  (5, 632)\t0.9457526652225547\n",
      "  (5, 132)\t0.25671518206763283\n",
      "  :\t:\n",
      "  (2965, 212)\t0.12890244718697344\n",
      "  (2965, 3)\t0.0970091610082671\n",
      "  (2966, 390)\t0.6635960163549899\n",
      "  (2966, 20)\t0.5207382201353313\n",
      "  (2966, 960)\t0.4390124697345165\n",
      "  (2966, 132)\t0.2444924412817324\n",
      "  (2966, 212)\t0.1515247069943207\n",
      "  (2966, 3)\t0.11403417870120953\n",
      "  (2967, 395)\t0.6801794567172059\n",
      "  (2967, 232)\t0.5047781003749829\n",
      "  (2967, 1073)\t0.49097056547259854\n",
      "  (2967, 132)\t0.1846279682740638\n",
      "  (2967, 3)\t0.08611267741870639\n",
      "  (2968, 427)\t0.9928272735457365\n",
      "  (2968, 3)\t0.11955753804649595\n",
      "  (2969, 941)\t0.7849186711294763\n",
      "  (2969, 299)\t0.5871797066329021\n",
      "  (2969, 212)\t0.15803982681124593\n",
      "  (2969, 3)\t0.11893731530645565\n",
      "  (2970, 118)\t0.7932251039186167\n",
      "  (2970, 1162)\t0.563260647668002\n",
      "  (2970, 212)\t0.18486576847466732\n",
      "  (2970, 3)\t0.13912593197600956\n",
      "  (2971, 1057)\t0.9928272735457365\n",
      "  (2971, 3)\t0.11955753804649595\n"
     ]
    }
   ],
   "source": [
    "print(X_treino_vetor)"
   ]
  },
  {
   "cell_type": "code",
   "execution_count": 24,
   "id": "e520ca16",
   "metadata": {},
   "outputs": [
    {
     "data": {
      "text/plain": [
       "SGDClassifier(alpha=0.001, max_iter=5, random_state=42, tol=None)"
      ]
     },
     "execution_count": 24,
     "metadata": {},
     "output_type": "execute_result"
    }
   ],
   "source": [
    "#gradiente descendente\n",
    "modelo = SGDClassifier(loss='hinge', penalty='l2', alpha=1e-3, random_state=42, max_iter=5, tol=None)\n",
    "modelo.fit(X_treino_vetor, y_treino)"
   ]
  },
  {
   "cell_type": "code",
   "execution_count": 25,
   "id": "c5523f11",
   "metadata": {},
   "outputs": [],
   "source": [
    "X_teste_vetor = txtvetorizador.transform(X_teste)"
   ]
  },
  {
   "cell_type": "code",
   "execution_count": 27,
   "id": "11ed6d97",
   "metadata": {},
   "outputs": [],
   "source": [
    "previsao = modelo.predict(X_teste_vetor)"
   ]
  },
  {
   "cell_type": "code",
   "execution_count": 35,
   "id": "3aba2e83",
   "metadata": {},
   "outputs": [
    {
     "name": "stdout",
     "output_type": "stream",
     "text": [
      "              precision    recall  f1-score   support\n",
      "\n",
      "           1       0.84      0.87      0.85       373\n",
      "           2       0.78      0.82      0.80        93\n",
      "           3       0.89      1.00      0.94        17\n",
      "           4       0.75      0.65      0.70       100\n",
      "           5       1.00      1.00      1.00         9\n",
      "           6       0.72      0.69      0.70       141\n",
      "           8       1.00      0.91      0.95        11\n",
      "\n",
      "    accuracy                           0.80       744\n",
      "   macro avg       0.85      0.85      0.85       744\n",
      "weighted avg       0.80      0.80      0.80       744\n",
      "\n",
      "[4 1 6 8 3 2 5] [1 2 3 4 5 6 8]\n"
     ]
    }
   ],
   "source": [
    "print(metrics.classification_report(y_teste.values, previsao))\n",
    "\n",
    "print(categorias, modelo.classes_)"
   ]
  },
  {
   "cell_type": "code",
   "execution_count": 39,
   "id": "b28a18a5",
   "metadata": {},
   "outputs": [
    {
     "data": {
      "text/plain": [
       "Text(0.5, 0, 'Classificações')"
      ]
     },
     "execution_count": 39,
     "metadata": {},
     "output_type": "execute_result"
    },
    {
     "data": {
      "image/png": "[encoded data removed]",
      "text/plain": [
       "<Figure size 288x288 with 2 Axes>"
      ]
     },
     "metadata": {
      "needs_background": "light"
     },
     "output_type": "display_data"
    }
   ],
   "source": [
    "confusion_matrix = confusion_matrix(y_teste.values, previsao)\n",
    "plt.matshow(confusion_matrix, cmap='RdBu_r')\n",
    "plt.title(\"Matriz de confusão\")\n",
    "plt.colorbar()\n",
    "plt.ylabel(\"Classificações corretas\")\n",
    "plt.xlabel(\"Classificações\")"
   ]
  },
  {
   "cell_type": "code",
   "execution_count": 42,
   "id": "2df89952",
   "metadata": {},
   "outputs": [
    {
     "data": {
      "text/plain": [
       "MultinomialNB()"
      ]
     },
     "execution_count": 42,
     "metadata": {},
     "output_type": "execute_result"
    }
   ],
   "source": [
    "#navie bayes\n",
    "MultiNB = MultinomialNB()\n",
    "MultiNB.fit(X_treino_vetor, y_treino)"
   ]
  },
  {
   "cell_type": "code",
   "execution_count": 43,
   "id": "3da2ddca",
   "metadata": {},
   "outputs": [],
   "source": [
    "previsaoNB = MultiNB.predict(X_teste_vetor)"
   ]
  },
  {
   "cell_type": "code",
   "execution_count": 51,
   "id": "5ee4061d",
   "metadata": {},
   "outputs": [
    {
     "name": "stdout",
     "output_type": "stream",
     "text": [
      "              precision    recall  f1-score   support\n",
      "\n",
      "           1       0.61      0.93      0.74       373\n",
      "           2       0.89      0.60      0.72        93\n",
      "           3       0.00      0.00      0.00        17\n",
      "           4       0.50      0.02      0.04       100\n",
      "           5       0.00      0.00      0.00         9\n",
      "           6       0.69      0.55      0.61       141\n",
      "           8       0.00      0.00      0.00        11\n",
      "\n",
      "    accuracy                           0.65       744\n",
      "   macro avg       0.38      0.30      0.30       744\n",
      "weighted avg       0.62      0.65      0.58       744\n",
      "\n",
      "[4 1 6 8 3 2 5]\n"
     ]
    }
   ],
   "source": [
    "print(metrics.classification_report(y_teste.values, previsaoNB))\n",
    "\n",
    "print(categorias)"
   ]
  },
  {
   "cell_type": "code",
   "execution_count": 52,
   "id": "36212bbf",
   "metadata": {},
   "outputs": [
    {
     "data": {
      "text/plain": [
       "Text(0.5, 0, 'Classificações')"
      ]
     },
     "execution_count": 52,
     "metadata": {},
     "output_type": "execute_result"
    },
    {
     "data": {
      "image/png": "[encoded data removed]",
      "text/plain": [
       "<Figure size 288x288 with 2 Axes>"
      ]
     },
     "metadata": {
      "needs_background": "light"
     },
     "output_type": "display_data"
    }
   ],
   "source": [
    "confusion_matrix = confusion_matrix(y_teste.values, previsaoNB)\n",
    "plt.matshow(confusion_matrix, cmap='RdBu_r')\n",
    "plt.title(\"Matriz de confusão\")\n",
    "plt.colorbar()\n",
    "plt.ylabel(\"Classificações corretas\")\n",
    "plt.xlabel(\"Classificações\")"
   ]
  },
  {
   "cell_type": "code",
   "execution_count": 58,
   "id": "28742fb7",
   "metadata": {},
   "outputs": [],
   "source": [
    "#svc\n",
    "param_grid = [\n",
    "    {'C': [1, 10, 100, 1000]}\n",
    "]\n",
    "svc = LinearSVC()\n",
    "svm = GridSearchCV(svc, param_grid).fit(X_treino_vetor, y_treino)"
   ]
  },
  {
   "cell_type": "code",
   "execution_count": 59,
   "id": "def4f29d",
   "metadata": {},
   "outputs": [],
   "source": [
    "previsaoSVC = svm.predict(X_teste_vetor)"
   ]
  },
  {
   "cell_type": "code",
   "execution_count": 60,
   "id": "1afb608c",
   "metadata": {},
   "outputs": [
    {
     "name": "stdout",
     "output_type": "stream",
     "text": [
      "              precision    recall  f1-score   support\n",
      "\n",
      "           1       0.83      0.86      0.85       373\n",
      "           2       0.78      0.82      0.80        93\n",
      "           3       0.94      1.00      0.97        17\n",
      "           4       0.72      0.68      0.70       100\n",
      "           5       1.00      1.00      1.00         9\n",
      "           6       0.69      0.65      0.67       141\n",
      "           8       1.00      0.91      0.95        11\n",
      "\n",
      "    accuracy                           0.80       744\n",
      "   macro avg       0.85      0.84      0.85       744\n",
      "weighted avg       0.79      0.80      0.79       744\n",
      "\n",
      "[4 1 6 8 3 2 5]\n"
     ]
    }
   ],
   "source": [
    "print(metrics.classification_report(y_teste.values, previsaoSVC))\n",
    "\n",
    "print(categorias)"
   ]
  },
  {
   "cell_type": "code",
   "execution_count": 61,
   "id": "51470cc1",
   "metadata": {},
   "outputs": [
    {
     "data": {
      "text/plain": [
       "Text(0.5, 0, 'Classificações')"
      ]
     },
     "execution_count": 61,
     "metadata": {},
     "output_type": "execute_result"
    },
    {
     "data": {
      "image/png": "[encoded data removed]",
      "text/plain": [
       "<Figure size 288x288 with 2 Axes>"
      ]
     },
     "metadata": {
      "needs_background": "light"
     },
     "output_type": "display_data"
    }
   ],
   "source": [
    "confusion_matrix = confusion_matrix(y_teste.values, previsaoSVC)\n",
    "plt.matshow(confusion_matrix, cmap='RdBu_r')\n",
    "plt.title(\"Matriz de confusão\")\n",
    "plt.colorbar()\n",
    "plt.ylabel(\"Classificações corretas\")\n",
    "plt.xlabel(\"Classificações\")"
   ]
  },
  {
   "cell_type": "code",
   "execution_count": 63,
   "id": "eff135c1",
   "metadata": {},
   "outputs": [
    {
     "name": "stdout",
     "output_type": "stream",
     "text": [
      "Accuracy\n",
      "Gradient = 0.8024193548387096\n",
      "Navie = 0.646505376344086\n",
      "SVC = 0.7956989247311828\n"
     ]
    }
   ],
   "source": [
    "print('Accuracy')\n",
    "print('Gradient = {}'.format(accuracy_score(y_teste.values, previsao)))\n",
    "print('Navie = {}'.format(accuracy_score(y_teste.values, previsaoNB)))\n",
    "print('SVC = {}'.format(accuracy_score(y_teste.values, previsaoSVC)))"
   ]
  },
  {
   "cell_type": "code",
   "execution_count": null,
   "id": "8e5b67e0",
   "metadata": {},
   "outputs": [],
   "source": []
  }
 ],
 "metadata": {
  "kernelspec": {
   "display_name": "Python 3",
   "language": "python",
   "name": "python3"
  },
  "language_info": {
   "codemirror_mode": {
    "name": "ipython",
    "version": 3
   },
   "file_extension": ".py",
   "mimetype": "text/x-python",
   "name": "python",
   "nbconvert_exporter": "python",
   "pygments_lexer": "ipython3",
   "version": "3.8.8"
  }
 },
 "nbformat": 4,
 "nbformat_minor": 5
}
